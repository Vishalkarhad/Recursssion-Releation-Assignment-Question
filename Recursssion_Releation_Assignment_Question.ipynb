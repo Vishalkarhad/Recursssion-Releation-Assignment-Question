{
  "nbformat": 4,
  "nbformat_minor": 0,
  "metadata": {
    "colab": {
      "provenance": []
    },
    "kernelspec": {
      "name": "python3",
      "display_name": "Python 3"
    },
    "language_info": {
      "name": "python"
    }
  },
  "cells": [
    {
      "cell_type": "markdown",
      "source": [
        "**1 Find the value of T(2) for the recurrence relation T(n) = 3T(n-1) + 12n, given that T(0)=5.**"
      ],
      "metadata": {
        "id": "KX8A97dvvrq0"
      }
    },
    {
      "cell_type": "code",
      "execution_count": 1,
      "metadata": {
        "colab": {
          "base_uri": "https://localhost:8080/"
        },
        "id": "Lms5XgwVveyJ",
        "outputId": "9cce1391-95d1-4e59-9bbe-f61a609ff154"
      },
      "outputs": [
        {
          "output_type": "stream",
          "name": "stdout",
          "text": [
            "T(2) = 105\n"
          ]
        }
      ],
      "source": [
        "def T(n):\n",
        "    if n == 0:\n",
        "        return 5\n",
        "    else:\n",
        "        return 3 * T(n-1) + 12 * n\n",
        "\n",
        "# Calculate T(2)\n",
        "result = T(2)\n",
        "print(\"T(2) =\", result)\n"
      ]
    },
    {
      "cell_type": "markdown",
      "source": [
        "# **2. Given a recurrence relation, solve it using the substitution method:**"
      ],
      "metadata": {
        "id": "xZJhUN0pwYlC"
      }
    },
    {
      "cell_type": "markdown",
      "source": [
        "**a. T(n) = T(n-1) + c**"
      ],
      "metadata": {
        "id": "lC7qpg-Fwahy"
      }
    },
    {
      "cell_type": "code",
      "source": [
        "def T(n, T0, c):\n",
        "    \"\"\"\n",
        "    Compute the value of T(n) using recursion for the recurrence relation T(n) = T(n-1) + c.\n",
        "\n",
        "    Parameters:\n",
        "    n (int): The index at which to compute T(n).\n",
        "    T0 (int): The initial condition T(0).\n",
        "    c (int): The constant added at each step.\n",
        "\n",
        "    Returns:\n",
        "    int: The computed value of T(n).\n",
        "    \"\"\"\n",
        "    if n == 0:\n",
        "        return T0\n",
        "    else:\n",
        "        return T(T(n-1, T0, c), T0, c) + c\n",
        "\n",
        "# Corrected recursive function without excessive recursion\n",
        "def T(n, T0, c):\n",
        "    \"\"\"\n",
        "    Compute the value of T(n) using recursion for the recurrence relation T(n) = T(n-1) + c.\n",
        "\n",
        "    Parameters:\n",
        "    n (int): The index at which to compute T(n).\n",
        "    T0 (int): The initial condition T(0).\n",
        "    c (int): The constant added at each step.\n",
        "\n",
        "    Returns:\n",
        "    int: The computed value of T(n).\n",
        "    \"\"\"\n",
        "    if n == 0:\n",
        "        return T0\n",
        "    else:\n",
        "        return T(n - 1, T0, c) + c\n",
        "\n",
        "# Example usage\n",
        "n = 5\n",
        "T0 = 2\n",
        "c = 3\n",
        "\n",
        "# Compute T(n)\n",
        "result = T(n, T0, c)\n",
        "print(f\"T({n}) = {result}\")\n"
      ],
      "metadata": {
        "colab": {
          "base_uri": "https://localhost:8080/"
        },
        "id": "7D2yrIhUwQcs",
        "outputId": "2334a7f3-bdd6-4c58-b26d-9add25e81a5d"
      },
      "execution_count": 3,
      "outputs": [
        {
          "output_type": "stream",
          "name": "stdout",
          "text": [
            "T(5) = 17\n"
          ]
        }
      ]
    },
    {
      "cell_type": "markdown",
      "source": [
        "**b. T(n) = 2T(n/2) + n**"
      ],
      "metadata": {
        "id": "tIvQ0L8Fx1JL"
      }
    },
    {
      "cell_type": "code",
      "source": [
        "def T(n):\n",
        "    \"\"\"\n",
        "    Compute the value of T(n) using recursion for the recurrence relation T(n) = 2T(n/2) + n.\n",
        "\n",
        "    Parameters:\n",
        "    n (int): The value at which to compute T(n). Should be a power of 2 for the recursion to work properly.\n",
        "\n",
        "    Returns:\n",
        "    int: The computed value of T(n).\n",
        "    \"\"\"\n",
        "    # Base case: When n is 1, return a constant value (base case for this recurrence)\n",
        "    if n == 1:\n",
        "        return 1  # This value can be adjusted based on specific base case requirements\n",
        "\n",
        "    # Recursive case\n",
        "    return 2 * T(n // 2) + n\n",
        "\n",
        "# Example usage\n",
        "n = 8  # Must be a power of 2 for this implementation to work correctly\n",
        "result = T(n)\n",
        "print(f\"T({n}) = {result}\")\n"
      ],
      "metadata": {
        "colab": {
          "base_uri": "https://localhost:8080/"
        },
        "id": "IX9gNbroxmtk",
        "outputId": "b5b13966-112e-461b-bd4e-b719bea8d1ed"
      },
      "execution_count": 4,
      "outputs": [
        {
          "output_type": "stream",
          "name": "stdout",
          "text": [
            "T(8) = 32\n"
          ]
        }
      ]
    },
    {
      "cell_type": "markdown",
      "source": [
        "**c. T(n) = 2T(n/2) + c**"
      ],
      "metadata": {
        "id": "uNPby-Knx-aS"
      }
    },
    {
      "cell_type": "code",
      "source": [
        "def T(n, c):\n",
        "    \"\"\"\n",
        "    Compute the value of T(n) using recursion for the recurrence relation T(n) = 2T(n/2) + c.\n",
        "\n",
        "    Parameters:\n",
        "    n (int): The value at which to compute T(n). Should be a positive integer.\n",
        "    c (int): The constant added at each step of the recurrence.\n",
        "\n",
        "    Returns:\n",
        "    int: The computed value of T(n).\n",
        "    \"\"\"\n",
        "    # Base case: when n is 1, return a constant value (base case for this recurrence)\n",
        "    if n == 1:\n",
        "        return 1  # You can choose a different base value if needed\n",
        "\n",
        "    # Recursive case\n",
        "    return 2 * T(n // 2, c) + c\n",
        "\n",
        "# Example usage\n",
        "n = 8  # n should be a positive integer, ideally a power of 2 for this example\n",
        "c = 5   # Example constant\n",
        "\n",
        "# Compute T(n)\n",
        "result = T(n, c)\n",
        "print(f\"T({n}) = {result}\")\n"
      ],
      "metadata": {
        "colab": {
          "base_uri": "https://localhost:8080/"
        },
        "id": "EFbNTgILx4OS",
        "outputId": "5262fa36-20e5-40c9-bccb-dd59438f0d10"
      },
      "execution_count": 5,
      "outputs": [
        {
          "output_type": "stream",
          "name": "stdout",
          "text": [
            "T(8) = 43\n"
          ]
        }
      ]
    },
    {
      "cell_type": "markdown",
      "source": [
        "**d. T(n) = T(n/2) + c**"
      ],
      "metadata": {
        "id": "0l6N6oSByHNq"
      }
    },
    {
      "cell_type": "code",
      "source": [
        "def T(n, c):\n",
        "    \"\"\"\n",
        "    Compute the value of T(n) using recursion for the recurrence relation T(n) = T(n/2) + c.\n",
        "\n",
        "    Parameters:\n",
        "    n (int): The value at which to compute T(n). Should be a positive integer.\n",
        "    c (int): The constant added at each step of the recurrence.\n",
        "\n",
        "    Returns:\n",
        "    int: The computed value of T(n).\n",
        "    \"\"\"\n",
        "    # Base case: when n is 1, return a constant value (base case for this recurrence)\n",
        "    if n <= 1:\n",
        "        return c  # Base case value; can be adjusted as needed\n",
        "\n",
        "    # Recursive case\n",
        "    return T(n // 2, c) + c\n",
        "\n",
        "# Example usage\n",
        "n = 8  # n should be a positive integer\n",
        "c = 5   # Example constant\n",
        "\n",
        "# Compute T(n)\n",
        "result = T(n, c)\n",
        "print(f\"T({n}) = {result}\")\n"
      ],
      "metadata": {
        "colab": {
          "base_uri": "https://localhost:8080/"
        },
        "id": "eYXSWF3iyBjK",
        "outputId": "dfc9d57f-3acf-48b1-f64b-aa2fe88044eb"
      },
      "execution_count": 6,
      "outputs": [
        {
          "output_type": "stream",
          "name": "stdout",
          "text": [
            "T(8) = 20\n"
          ]
        }
      ]
    },
    {
      "cell_type": "markdown",
      "source": [
        "# **3. Given a recurrence relation, solve it using the recursive tree approach:**"
      ],
      "metadata": {
        "id": "XCqTS7u2yOXb"
      }
    },
    {
      "cell_type": "markdown",
      "source": [
        "**a. T(n) = 2T(n-1) +1**"
      ],
      "metadata": {
        "id": "N4tctXB5yRxS"
      }
    },
    {
      "cell_type": "code",
      "source": [
        "def T(n):\n",
        "    \"\"\"\n",
        "    Compute the value of T(n) using recursion for the recurrence relation T(n) = 2T(n-1) + 1.\n",
        "\n",
        "    Parameters:\n",
        "    n (int): The value at which to compute T(n). Should be a non-negative integer.\n",
        "\n",
        "    Returns:\n",
        "    int: The computed value of T(n).\n",
        "    \"\"\"\n",
        "    # Base case: when n is 0\n",
        "    if n == 0:\n",
        "        return 1  # Base case value; you can adjust this based on problem specifics\n",
        "\n",
        "    # Recursive case\n",
        "    return 2 * T(n - 1) + 1\n",
        "\n",
        "# Example usage\n",
        "n = 4  # Example value\n",
        "result = T(n)\n",
        "print(f\"T({n}) = {result}\")\n"
      ],
      "metadata": {
        "colab": {
          "base_uri": "https://localhost:8080/"
        },
        "id": "cs7gpGyyyLAC",
        "outputId": "4d8f77f4-eece-487d-a280-75524aaa6845"
      },
      "execution_count": 7,
      "outputs": [
        {
          "output_type": "stream",
          "name": "stdout",
          "text": [
            "T(4) = 31\n"
          ]
        }
      ]
    },
    {
      "cell_type": "markdown",
      "source": [
        "**b. T(n) = 2T(n/2) + n**"
      ],
      "metadata": {
        "id": "0XDBhFyPypIy"
      }
    },
    {
      "cell_type": "code",
      "source": [
        "def T(n):\n",
        "    \"\"\"\n",
        "    Compute the value of T(n) using recursion for the recurrence relation T(n) = 2T(n/2) + n.\n",
        "\n",
        "    Parameters:\n",
        "    n (int): The value at which to compute T(n). Should be a positive integer.\n",
        "\n",
        "    Returns:\n",
        "    int: The computed value of T(n).\n",
        "    \"\"\"\n",
        "    # Base case: when n is 1 (or less, can be adjusted)\n",
        "    if n <= 1:\n",
        "        return 1  # Base case value\n",
        "\n",
        "    # Recursive case\n",
        "    return 2 * T(n // 2) + n\n",
        "\n",
        "# Example usage\n",
        "n = 8  # Example value\n",
        "result = T(n)\n",
        "print(f\"T({n}) = {result}\")\n"
      ],
      "metadata": {
        "colab": {
          "base_uri": "https://localhost:8080/"
        },
        "id": "qvbgKlQ3ylsL",
        "outputId": "cc28b127-67bc-47fc-ff90-9c4a07b60b1f"
      },
      "execution_count": 8,
      "outputs": [
        {
          "output_type": "stream",
          "name": "stdout",
          "text": [
            "T(8) = 32\n"
          ]
        }
      ]
    },
    {
      "cell_type": "code",
      "source": [],
      "metadata": {
        "id": "Doob_l4sy4eC"
      },
      "execution_count": null,
      "outputs": []
    }
  ]
}